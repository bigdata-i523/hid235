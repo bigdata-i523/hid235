{
 "cells": [
  {
   "cell_type": "code",
   "execution_count": 1,
   "metadata": {
    "collapsed": true
   },
   "outputs": [],
   "source": [
    "import matplotlib.pyplot as plt\n",
    "% matplotlib inline\n",
    "from sklearn.metrics import accuracy_score"
   ]
  },
  {
   "cell_type": "code",
   "execution_count": 2,
   "metadata": {
    "scrolled": true
   },
   "outputs": [
    {
     "data": {
      "text/html": [
       "<div>\n",
       "<style>\n",
       "    .dataframe thead tr:only-child th {\n",
       "        text-align: right;\n",
       "    }\n",
       "\n",
       "    .dataframe thead th {\n",
       "        text-align: left;\n",
       "    }\n",
       "\n",
       "    .dataframe tbody tr th {\n",
       "        vertical-align: top;\n",
       "    }\n",
       "</style>\n",
       "<table border=\"1\" class=\"dataframe\">\n",
       "  <thead>\n",
       "    <tr style=\"text-align: right;\">\n",
       "      <th></th>\n",
       "      <th>Id</th>\n",
       "      <th>MSSubClass</th>\n",
       "      <th>LotArea</th>\n",
       "      <th>OverallQual</th>\n",
       "      <th>OverallCond</th>\n",
       "      <th>YearBuilt</th>\n",
       "      <th>YearRemodAdd</th>\n",
       "      <th>MasVnrArea</th>\n",
       "      <th>BsmtFinSF1</th>\n",
       "      <th>BsmtFinSF2</th>\n",
       "      <th>...</th>\n",
       "      <th>WoodDeckSF</th>\n",
       "      <th>OpenPorchSF</th>\n",
       "      <th>EnclosedPorch</th>\n",
       "      <th>3SsnPorch</th>\n",
       "      <th>ScreenPorch</th>\n",
       "      <th>PoolArea</th>\n",
       "      <th>MiscVal</th>\n",
       "      <th>MoSold</th>\n",
       "      <th>YrSold</th>\n",
       "      <th>SalePrice</th>\n",
       "    </tr>\n",
       "  </thead>\n",
       "  <tbody>\n",
       "    <tr>\n",
       "      <th>0</th>\n",
       "      <td>1</td>\n",
       "      <td>60</td>\n",
       "      <td>8450</td>\n",
       "      <td>7</td>\n",
       "      <td>5</td>\n",
       "      <td>2003</td>\n",
       "      <td>2003</td>\n",
       "      <td>196</td>\n",
       "      <td>706</td>\n",
       "      <td>0</td>\n",
       "      <td>...</td>\n",
       "      <td>0</td>\n",
       "      <td>61</td>\n",
       "      <td>0</td>\n",
       "      <td>0</td>\n",
       "      <td>0</td>\n",
       "      <td>0</td>\n",
       "      <td>0</td>\n",
       "      <td>2</td>\n",
       "      <td>2008</td>\n",
       "      <td>208500</td>\n",
       "    </tr>\n",
       "    <tr>\n",
       "      <th>1</th>\n",
       "      <td>2</td>\n",
       "      <td>20</td>\n",
       "      <td>9600</td>\n",
       "      <td>6</td>\n",
       "      <td>8</td>\n",
       "      <td>1976</td>\n",
       "      <td>1976</td>\n",
       "      <td>0</td>\n",
       "      <td>978</td>\n",
       "      <td>0</td>\n",
       "      <td>...</td>\n",
       "      <td>298</td>\n",
       "      <td>0</td>\n",
       "      <td>0</td>\n",
       "      <td>0</td>\n",
       "      <td>0</td>\n",
       "      <td>0</td>\n",
       "      <td>0</td>\n",
       "      <td>5</td>\n",
       "      <td>2007</td>\n",
       "      <td>181500</td>\n",
       "    </tr>\n",
       "    <tr>\n",
       "      <th>2</th>\n",
       "      <td>3</td>\n",
       "      <td>60</td>\n",
       "      <td>11250</td>\n",
       "      <td>7</td>\n",
       "      <td>5</td>\n",
       "      <td>2001</td>\n",
       "      <td>2002</td>\n",
       "      <td>162</td>\n",
       "      <td>486</td>\n",
       "      <td>0</td>\n",
       "      <td>...</td>\n",
       "      <td>0</td>\n",
       "      <td>42</td>\n",
       "      <td>0</td>\n",
       "      <td>0</td>\n",
       "      <td>0</td>\n",
       "      <td>0</td>\n",
       "      <td>0</td>\n",
       "      <td>9</td>\n",
       "      <td>2008</td>\n",
       "      <td>223500</td>\n",
       "    </tr>\n",
       "    <tr>\n",
       "      <th>3</th>\n",
       "      <td>4</td>\n",
       "      <td>70</td>\n",
       "      <td>9550</td>\n",
       "      <td>7</td>\n",
       "      <td>5</td>\n",
       "      <td>1915</td>\n",
       "      <td>1970</td>\n",
       "      <td>0</td>\n",
       "      <td>216</td>\n",
       "      <td>0</td>\n",
       "      <td>...</td>\n",
       "      <td>0</td>\n",
       "      <td>35</td>\n",
       "      <td>272</td>\n",
       "      <td>0</td>\n",
       "      <td>0</td>\n",
       "      <td>0</td>\n",
       "      <td>0</td>\n",
       "      <td>2</td>\n",
       "      <td>2006</td>\n",
       "      <td>140000</td>\n",
       "    </tr>\n",
       "    <tr>\n",
       "      <th>4</th>\n",
       "      <td>5</td>\n",
       "      <td>60</td>\n",
       "      <td>14260</td>\n",
       "      <td>8</td>\n",
       "      <td>5</td>\n",
       "      <td>2000</td>\n",
       "      <td>2000</td>\n",
       "      <td>350</td>\n",
       "      <td>655</td>\n",
       "      <td>0</td>\n",
       "      <td>...</td>\n",
       "      <td>192</td>\n",
       "      <td>84</td>\n",
       "      <td>0</td>\n",
       "      <td>0</td>\n",
       "      <td>0</td>\n",
       "      <td>0</td>\n",
       "      <td>0</td>\n",
       "      <td>12</td>\n",
       "      <td>2008</td>\n",
       "      <td>250000</td>\n",
       "    </tr>\n",
       "  </tbody>\n",
       "</table>\n",
       "<p>5 rows × 35 columns</p>\n",
       "</div>"
      ],
      "text/plain": [
       "   Id  MSSubClass  LotArea  OverallQual  OverallCond  YearBuilt  YearRemodAdd  \\\n",
       "0   1          60     8450            7            5       2003          2003   \n",
       "1   2          20     9600            6            8       1976          1976   \n",
       "2   3          60    11250            7            5       2001          2002   \n",
       "3   4          70     9550            7            5       1915          1970   \n",
       "4   5          60    14260            8            5       2000          2000   \n",
       "\n",
       "   MasVnrArea  BsmtFinSF1  BsmtFinSF2    ...      WoodDeckSF  OpenPorchSF  \\\n",
       "0         196         706           0    ...               0           61   \n",
       "1           0         978           0    ...             298            0   \n",
       "2         162         486           0    ...               0           42   \n",
       "3           0         216           0    ...               0           35   \n",
       "4         350         655           0    ...             192           84   \n",
       "\n",
       "   EnclosedPorch  3SsnPorch  ScreenPorch  PoolArea  MiscVal  MoSold  YrSold  \\\n",
       "0              0          0            0         0        0       2    2008   \n",
       "1              0          0            0         0        0       5    2007   \n",
       "2              0          0            0         0        0       9    2008   \n",
       "3            272          0            0         0        0       2    2006   \n",
       "4              0          0            0         0        0      12    2008   \n",
       "\n",
       "   SalePrice  \n",
       "0     208500  \n",
       "1     181500  \n",
       "2     223500  \n",
       "3     140000  \n",
       "4     250000  \n",
       "\n",
       "[5 rows x 35 columns]"
      ]
     },
     "execution_count": 2,
     "metadata": {},
     "output_type": "execute_result"
    }
   ],
   "source": [
    "\n",
    "from sklearn.ensemble import RandomForestClassifier\n",
    "import pandas as pd\n",
    "from sklearn.preprocessing import LabelEncoder\n",
    "import numpy as np\n",
    "df=pd.read_csv('C:\\\\Users\\\\Yujie\\'s VMware\\\\Desktop\\\\training_data.csv')\n",
    "df.head()"
   ]
  },
  {
   "cell_type": "code",
   "execution_count": 26,
   "metadata": {},
   "outputs": [
    {
     "data": {
      "text/html": [
       "<div>\n",
       "<style>\n",
       "    .dataframe thead tr:only-child th {\n",
       "        text-align: right;\n",
       "    }\n",
       "\n",
       "    .dataframe thead th {\n",
       "        text-align: left;\n",
       "    }\n",
       "\n",
       "    .dataframe tbody tr th {\n",
       "        vertical-align: top;\n",
       "    }\n",
       "</style>\n",
       "<table border=\"1\" class=\"dataframe\">\n",
       "  <thead>\n",
       "    <tr style=\"text-align: right;\">\n",
       "      <th></th>\n",
       "      <th>MSSubClass</th>\n",
       "      <th>MSZoning</th>\n",
       "      <th>LotFrontage</th>\n",
       "      <th>LotArea</th>\n",
       "      <th>Street</th>\n",
       "      <th>Alley</th>\n",
       "      <th>LotShape</th>\n",
       "      <th>LandContour</th>\n",
       "      <th>Utilities</th>\n",
       "      <th>LotConfig</th>\n",
       "      <th>...</th>\n",
       "      <th>GarageCars</th>\n",
       "      <th>GarageQual</th>\n",
       "      <th>GarageCond</th>\n",
       "      <th>PavedDrive</th>\n",
       "      <th>PoolArea</th>\n",
       "      <th>PoolQC</th>\n",
       "      <th>Fence</th>\n",
       "      <th>SaleType</th>\n",
       "      <th>SaleCondition</th>\n",
       "      <th>binSalePrice</th>\n",
       "    </tr>\n",
       "  </thead>\n",
       "  <tbody>\n",
       "    <tr>\n",
       "      <th>0</th>\n",
       "      <td>50</td>\n",
       "      <td>RM</td>\n",
       "      <td>L70</td>\n",
       "      <td>L10517</td>\n",
       "      <td>Pave</td>\n",
       "      <td>None</td>\n",
       "      <td>Reg</td>\n",
       "      <td>Lvl</td>\n",
       "      <td>AllPub</td>\n",
       "      <td>Inside</td>\n",
       "      <td>...</td>\n",
       "      <td>2</td>\n",
       "      <td>Fa</td>\n",
       "      <td>TA</td>\n",
       "      <td>Y</td>\n",
       "      <td>N</td>\n",
       "      <td>None</td>\n",
       "      <td>None</td>\n",
       "      <td>WD</td>\n",
       "      <td>Abnorml</td>\n",
       "      <td>N</td>\n",
       "    </tr>\n",
       "    <tr>\n",
       "      <th>1</th>\n",
       "      <td>20</td>\n",
       "      <td>RL</td>\n",
       "      <td>L70</td>\n",
       "      <td>L10517</td>\n",
       "      <td>Pave</td>\n",
       "      <td>None</td>\n",
       "      <td>IR1</td>\n",
       "      <td>Lvl</td>\n",
       "      <td>AllPub</td>\n",
       "      <td>Inside</td>\n",
       "      <td>...</td>\n",
       "      <td>1</td>\n",
       "      <td>TA</td>\n",
       "      <td>TA</td>\n",
       "      <td>Y</td>\n",
       "      <td>N</td>\n",
       "      <td>None</td>\n",
       "      <td>MnPrv</td>\n",
       "      <td>WD</td>\n",
       "      <td>Normal</td>\n",
       "      <td>N</td>\n",
       "    </tr>\n",
       "    <tr>\n",
       "      <th>2</th>\n",
       "      <td>20</td>\n",
       "      <td>RL</td>\n",
       "      <td>L70</td>\n",
       "      <td>L10517</td>\n",
       "      <td>Pave</td>\n",
       "      <td>None</td>\n",
       "      <td>Reg</td>\n",
       "      <td>Lvl</td>\n",
       "      <td>AllPub</td>\n",
       "      <td>Corner</td>\n",
       "      <td>...</td>\n",
       "      <td>2</td>\n",
       "      <td>TA</td>\n",
       "      <td>TA</td>\n",
       "      <td>Y</td>\n",
       "      <td>N</td>\n",
       "      <td>None</td>\n",
       "      <td>None</td>\n",
       "      <td>WD</td>\n",
       "      <td>Normal</td>\n",
       "      <td>N</td>\n",
       "    </tr>\n",
       "    <tr>\n",
       "      <th>3</th>\n",
       "      <td>20</td>\n",
       "      <td>RL</td>\n",
       "      <td>G70</td>\n",
       "      <td>L10517</td>\n",
       "      <td>Pave</td>\n",
       "      <td>None</td>\n",
       "      <td>Reg</td>\n",
       "      <td>Lvl</td>\n",
       "      <td>AllPub</td>\n",
       "      <td>Inside</td>\n",
       "      <td>...</td>\n",
       "      <td>2</td>\n",
       "      <td>TA</td>\n",
       "      <td>TA</td>\n",
       "      <td>Y</td>\n",
       "      <td>N</td>\n",
       "      <td>None</td>\n",
       "      <td>GdWo</td>\n",
       "      <td>WD</td>\n",
       "      <td>Abnorml</td>\n",
       "      <td>N</td>\n",
       "    </tr>\n",
       "    <tr>\n",
       "      <th>4</th>\n",
       "      <td>20</td>\n",
       "      <td>RL</td>\n",
       "      <td>G70</td>\n",
       "      <td>L10517</td>\n",
       "      <td>Pave</td>\n",
       "      <td>None</td>\n",
       "      <td>IR1</td>\n",
       "      <td>Lvl</td>\n",
       "      <td>AllPub</td>\n",
       "      <td>Inside</td>\n",
       "      <td>...</td>\n",
       "      <td>2</td>\n",
       "      <td>TA</td>\n",
       "      <td>TA</td>\n",
       "      <td>Y</td>\n",
       "      <td>N</td>\n",
       "      <td>None</td>\n",
       "      <td>None</td>\n",
       "      <td>WD</td>\n",
       "      <td>Normal</td>\n",
       "      <td>Y</td>\n",
       "    </tr>\n",
       "  </tbody>\n",
       "</table>\n",
       "<p>5 rows × 58 columns</p>\n",
       "</div>"
      ],
      "text/plain": [
       "   MSSubClass MSZoning LotFrontage LotArea Street Alley LotShape LandContour  \\\n",
       "0          50       RM         L70  L10517   Pave  None      Reg         Lvl   \n",
       "1          20       RL         L70  L10517   Pave  None      IR1         Lvl   \n",
       "2          20       RL         L70  L10517   Pave  None      Reg         Lvl   \n",
       "3          20       RL         G70  L10517   Pave  None      Reg         Lvl   \n",
       "4          20       RL         G70  L10517   Pave  None      IR1         Lvl   \n",
       "\n",
       "  Utilities LotConfig     ...      GarageCars GarageQual GarageCond  \\\n",
       "0    AllPub    Inside     ...               2         Fa         TA   \n",
       "1    AllPub    Inside     ...               1         TA         TA   \n",
       "2    AllPub    Corner     ...               2         TA         TA   \n",
       "3    AllPub    Inside     ...               2         TA         TA   \n",
       "4    AllPub    Inside     ...               2         TA         TA   \n",
       "\n",
       "  PavedDrive PoolArea PoolQC  Fence  SaleType  SaleCondition binSalePrice  \n",
       "0          Y        N   None   None        WD        Abnorml            N  \n",
       "1          Y        N   None  MnPrv        WD         Normal            N  \n",
       "2          Y        N   None   None        WD         Normal            N  \n",
       "3          Y        N   None   GdWo        WD        Abnorml            N  \n",
       "4          Y        N   None   None        WD         Normal            Y  \n",
       "\n",
       "[5 rows x 58 columns]"
      ]
     },
     "execution_count": 26,
     "metadata": {},
     "output_type": "execute_result"
    }
   ],
   "source": [
    "# clean data and show\n",
    "del df['error']\n",
    "df.head()"
   ]
  },
  {
   "cell_type": "code",
   "execution_count": 50,
   "metadata": {},
   "outputs": [
    {
     "data": {
      "image/png": "[encoded data removed]",
      "text/plain": [
       "<matplotlib.figure.Figure at 0x8f38b70>"
      ]
     },
     "metadata": {},
     "output_type": "display_data"
    },
    {
     "data": {
      "image/png": "[encoded data removed]",
      "text/plain": [
       "<matplotlib.figure.Figure at 0x8e69ef0>"
      ]
     },
     "metadata": {},
     "output_type": "display_data"
    }
   ],
   "source": [
    "# show the distribution of a column\n",
    "col = list(df['SalePrice']) \n",
    "plt.hist(col)\n",
    "\n",
    "plt.show()\n",
    "\n",
    "# show the distribution of another column\n",
    "col = list(df['MSSubClass']) \n",
    "plt.hist(col)\n",
    "\n",
    "plt.show()"
   ]
  },
  {
   "cell_type": "markdown",
   "metadata": {},
   "source": [
    "### Splitting into train and test"
   ]
  },
  {
   "cell_type": "code",
   "execution_count": 6,
   "metadata": {
    "collapsed": true
   },
   "outputs": [],
   "source": [
    "X = df[['MSSubClass','LotArea','OverallQual','OverallCond','YearBuilt', 'YearRemodAdd','MasVnrArea','BsmtFinSF1','BsmtFinSF2', 'WoodDeckSF','OpenPorchSF','EnclosedPorch','3SsnPorch','ScreenPorch','PoolArea','MiscVal','MoSold','YrSold']]\n",
    "y = df['SalePrice']\n",
    "from sklearn.model_selection import train_test_split\n",
    "X_train, X_test, y_train, y_test = train_test_split(X, y, test_size=0.2, random_state=3)"
   ]
  },
  {
   "cell_type": "code",
   "execution_count": 7,
   "metadata": {},
   "outputs": [
    {
     "name": "stdout",
     "output_type": "stream",
     "text": [
      "X_train: \n",
      "(1168, 18)\n",
      "y_train: \n",
      "(1168,)\n",
      "X_test: \n",
      "(292, 18)\n",
      "y_test: \n",
      "(292,)\n"
     ]
    }
   ],
   "source": [
    "print(\"X_train: \")\n",
    "print(X_train.shape)\n",
    "print(\"y_train: \")\n",
    "print(y_train.shape)\n",
    "print(\"X_test: \")\n",
    "print(X_test.shape)\n",
    "print(\"y_test: \")\n",
    "print(y_test.shape)"
   ]
  },
  {
   "cell_type": "markdown",
   "metadata": {},
   "source": [
    "### Using Linear Regression"
   ]
  },
  {
   "cell_type": "code",
   "execution_count": 53,
   "metadata": {},
   "outputs": [
    {
     "data": {
      "text/plain": [
       "LinearRegression(copy_X=True, fit_intercept=True, n_jobs=1, normalize=False)"
      ]
     },
     "execution_count": 53,
     "metadata": {},
     "output_type": "execute_result"
    }
   ],
   "source": [
    "# import model\n",
    "from sklearn.linear_model import LinearRegression\n",
    "\n",
    "# instantiate\n",
    "linreg = LinearRegression()\n",
    "\n",
    "# fit the model to the training data (learn the coefficients)\n",
    "linreg.fit(X_train, y_train)"
   ]
  },
  {
   "cell_type": "markdown",
   "metadata": {},
   "source": [
    "### show the coefficients of the linear regression model"
   ]
  },
  {
   "cell_type": "code",
   "execution_count": 54,
   "metadata": {},
   "outputs": [
    {
     "name": "stdout",
     "output_type": "stream",
     "text": [
      "1624810.78299\n",
      "[ -1.32598253e+02   1.17264859e+00   3.27974313e+04   3.52017131e+02\n",
      "   7.42385752e+01   3.87166477e+02   6.87797648e+01   3.05508150e+01\n",
      "   4.81195345e+00   3.94460800e+01   8.24586253e+01   2.55083195e+01\n",
      "   3.67581004e+01   6.78306474e+01   1.90173648e+02  -2.30935682e+00\n",
      "  -7.58643734e+02  -1.29045399e+03]\n"
     ]
    }
   ],
   "source": [
    "# print the intercept and coefficients\n",
    "print(linreg.intercept_)\n",
    "print(linreg.coef_)"
   ]
  },
  {
   "cell_type": "code",
   "execution_count": 57,
   "metadata": {},
   "outputs": [
    {
     "data": {
      "text/plain": [
       "[('MSSubClass', -132.59825288297418),\n",
       " ('LotArea', 1.1726485927894912),\n",
       " ('OverallQual', 32797.431340275551),\n",
       " ('OverallCond', 352.01713092259615),\n",
       " ('YearBuilt', 74.238575183515508),\n",
       " ('YearRemodAdd', 387.16647668821042),\n",
       " ('MasVnrArea', 68.779764836201025),\n",
       " ('BsmtFinSF1', 30.550814975040396),\n",
       " ('BsmtFinSF2', 4.811953445828749),\n",
       " ('WoodDeckSF', 39.446080031209931),\n",
       " ('OpenPorchSF', 82.458625258585016),\n",
       " ('EnclosedPorch', 25.508319545409904),\n",
       " ('3SsnPorch', 36.758100373945126),\n",
       " ('ScreenPorch', 67.830647415049953),\n",
       " ('PoolArea', 190.17364768682),\n",
       " ('MiscVal', -2.309356818373999),\n",
       " ('MoSold', -758.64373443570901),\n",
       " ('YrSold', -1290.4539903809468)]"
      ]
     },
     "execution_count": 57,
     "metadata": {},
     "output_type": "execute_result"
    }
   ],
   "source": [
    "# pair the feature names with the coefficients\n",
    "list(zip(X, linreg.coef_))"
   ]
  },
  {
   "cell_type": "markdown",
   "metadata": {},
   "source": [
    "### Make Prediction"
   ]
  },
  {
   "cell_type": "code",
   "execution_count": 58,
   "metadata": {},
   "outputs": [
    {
     "name": "stdout",
     "output_type": "stream",
     "text": [
      "[  93201.65287675  142554.76960023  207127.40186274  129212.10104713\n",
      "  284603.13460876   65916.12615103  200722.35383783  169593.14341713\n",
      "  138022.19789723  138387.20437863  143561.19507458  150824.4043784\n",
      "  141397.06769187  242451.92943507  294242.12637714  155754.66681213\n",
      "  137312.71913462  129724.80248527  114876.63835247  150591.3640421\n",
      "  123366.39990094  150807.12337525  243530.22799299   80763.41783606\n",
      "  197680.6442071   103336.1791911   164351.0638006    90905.30200621\n",
      "  168564.67988019  115830.7939216   155494.23908365  100141.70869163\n",
      "  129753.99108892  156909.62744952  198024.33401226  127554.26516619\n",
      "  202396.44876193  110389.71894826  176051.07333227  145661.99691863\n",
      "  220408.37444225  116538.72044784  244706.34275193  195197.31242857\n",
      "  278775.03276079  152402.88891841  144044.1694957    99239.71058997\n",
      "  131931.4514502   110682.0707577   286158.2247229   135834.2312254\n",
      "   97216.99608222  143430.65499509  119919.1222882   142851.58478543\n",
      "  204412.40936722  153442.22728046  132396.82935032  257628.30990488\n",
      "  169933.91094914  120347.46703607  105703.73721332  334713.28117372\n",
      "  114893.96280934  234743.60884166  183600.27577235  258490.04570492\n",
      "  375690.10951031  111056.04841375  172340.59505253  136413.8949467\n",
      "  144985.53609179  223770.11250678  153958.15058402  118182.70605492\n",
      "  231712.95504903  102900.49898239  154389.2668046   127207.38840213\n",
      "  145004.55720471  176843.72114247  169051.0221719   148482.89114126\n",
      "  313474.32652747  152493.90863482  173352.98469532  126431.410949\n",
      "  706997.59838104  273836.15113809  408289.15199464  184268.88377474\n",
      "  176636.23715661  275235.88756875  209025.79856597  301622.54866502\n",
      "  153471.41164935  210322.3456924   140373.14967059  147240.88073756\n",
      "  179983.14477495  236775.79874229  144459.66092891  253623.49760802\n",
      "  176613.8745506   229147.89622806  185611.33497853  184942.64455848\n",
      "   68523.77301979  111428.57621911   95690.85464389  210924.92842256\n",
      "  236920.78986689  179625.99265486  146998.08010809  218710.14496723\n",
      "  128961.12389426  144822.81021683  180904.35339614  126176.27283423\n",
      "   99200.6426002   257960.86042887  200015.00187306  189350.38765334\n",
      "  161309.58475033  188509.81215872  207842.304773    133745.60572444\n",
      "  146175.12018952  311506.70403465  123810.46022005  178891.00062911\n",
      "  161368.3460505   141225.57119693  247990.6084084   134197.93148368\n",
      "  105114.81700542   66238.30229136  178481.22924629  169327.77885027\n",
      "  115722.77661632  163980.78329632  259041.24033003  263441.73011914\n",
      "  283269.97449944  291907.40480834  197028.67375584  253486.2658659\n",
      "  104257.64311109  332402.81936497  235123.35447297  117530.28281743\n",
      "  331867.34936129  166007.48240655  203642.02685762  366937.27511738\n",
      "  254191.87188157  124456.0621068    91276.03127415  115556.73782587\n",
      "  135405.78846278  218110.30607514  214268.7945742   140032.81401882\n",
      "  182040.72686091  176083.82849172  189209.9335995   116292.72416312\n",
      "  156432.52235127  204191.85524977  243977.32691289  217247.92836948\n",
      "  285376.77266393  246843.94978091  222100.61618257  167537.81203899\n",
      "  173903.04681628  161022.49525822  142938.09421832  236955.86271045\n",
      "  118908.1141022   191184.99717802  264889.79476426  125154.14702448\n",
      "  227251.47377346  237911.61180972  161841.30235331  191446.14163809\n",
      "  116625.79736531  145735.12537565  105372.79335894  316582.43267848\n",
      "  122028.63732317  290593.52200424  185714.04747969  190352.49050499\n",
      "  231514.01368592  230079.79348368  127676.13717555  211300.51925447\n",
      "  195483.82714307  192652.60353829  165237.26624796  120930.29413027\n",
      "  246160.5957099   281456.29298689  246797.10864379  119311.41048692\n",
      "  125885.59543623  237312.78172775   80648.88617473  121685.26043487\n",
      "  114935.23554672  161184.27138098  148054.27442727  131650.06362918\n",
      "  201165.65733849  296531.91858395  130462.5135931   249027.70239568\n",
      "  177623.04403208  166277.96320103   94660.31809216   72766.55532673\n",
      "  120114.744019    102331.03622172  132734.52163217  195045.15386957\n",
      "  206238.5262443   254559.77871816  103180.37264793  217595.03298126\n",
      "  200740.09709761  309978.95599912  120679.0962053   105614.64472826\n",
      "  246644.91857921  132884.29067159  333136.91588735  167381.82062275\n",
      "  160037.46133837  280268.75854488  166764.14578859  163691.73116515\n",
      "  172120.87702276   86744.64311271  159726.64897898  152045.32160112\n",
      "  148376.7717957   261196.38354104  190853.69410498  147271.05605036\n",
      "  126117.61348537  122639.71249082  227607.46595295  170013.76929953\n",
      "  136917.40993332  157131.07140997  127090.52733891  135446.00011116\n",
      "  271380.56027395  138338.59566889  233995.26083728  141733.47586868\n",
      "  138265.15523182  200673.53942787  186815.23291077  226030.65231941\n",
      "  197560.45885543  392086.99980809  199746.97825355  194749.30417935\n",
      "  122346.88308178  170839.72571199   37264.46454778  153581.22281016\n",
      "  183230.11599231  143418.12876415  170655.31440413   60936.55821163\n",
      "  279635.84539619  141986.8959917   163848.54119987  130962.64226048\n",
      "  194210.12078339  222988.18563234  252212.98444331  371404.24966183\n",
      "  219031.5941132    63288.51714085  112594.85348706  139413.4862122 ]\n"
     ]
    }
   ],
   "source": [
    "y_pred = linreg.predict(X_test)\n",
    "print(y_pred)"
   ]
  },
  {
   "cell_type": "markdown",
   "metadata": {},
   "source": [
    "### Finally Check Error"
   ]
  },
  {
   "cell_type": "markdown",
   "metadata": {},
   "source": [
    "### Here, we use Root Mean Squared Error (RMSE) which is the square root of the mean of the squared errors for error checking:\n",
    "$$\\sqrt{\\frac 1n\\sum_{i=1}^n(y_i-\\hat{y}_i)^2}$$"
   ]
  },
  {
   "cell_type": "code",
   "execution_count": 59,
   "metadata": {},
   "outputs": [
    {
     "name": "stdout",
     "output_type": "stream",
     "text": [
      "46554.0967726\n"
     ]
    }
   ],
   "source": [
    "from sklearn import metrics\n",
    "import numpy as np\n",
    "\n",
    "print(np.sqrt(metrics.mean_squared_error(y_test, y_pred)))"
   ]
  },
  {
   "cell_type": "markdown",
   "metadata": {},
   "source": [
    "### Using logistic Regression"
   ]
  },
  {
   "cell_type": "code",
   "execution_count": 8,
   "metadata": {},
   "outputs": [
    {
     "name": "stdout",
     "output_type": "stream",
     "text": [
      "[135000 139400 215000  85000 259500 108480 161750  93000 103600 129500\n",
      "  80000 112000 115000 194000 171000 145000 130250 130500 151000 395192\n",
      " 135000 266500 335000 135000 197000 110000 116000 135000 139000  98000\n",
      " 181000  52500 110000 161000 248328 149000 215000 112500 143000 138000\n",
      " 224900  86000 215000 162900 190000 165500  79000  87000 135000 112000\n",
      " 223000  85400  90000 145000 143000 129500 204900 145000 127500 275000\n",
      " 194000 114500 157900 260400 143500 254900 180000 190000 223000 150000\n",
      " 215000  89500 145000 276000 111250 220000 172500 118964 130500 127000\n",
      " 137000 146000 196000 123600 380000 266500 229000 129900 324000 181000\n",
      " 260400 144152 202500 279500 319000 190000 130500 167000 171000 140000\n",
      " 142000 250000  98000 275000  79900 215000 193000 199900 139600 143000\n",
      " 137450 185900 328900 215000 259500 205950  87000 143900 167240 127000\n",
      " 101800 224900 196500 167000 108959 180000 162000 129900 176000 319000\n",
      " 124500 155900 266000 106000 215000 147000 121600 110000 165000 176000\n",
      "  79900 181000 195400 290000 315750 260400 153900 325624 112500 293077\n",
      " 181000 141000 342643 139000 135000 325000 174000  82500  78000 131500\n",
      " 120500 446261 378500 135000 191000 177500  79000  80000 258000 155900\n",
      " 263000 220000 378500 165000 184900 214000 128500 165500 159000 185900\n",
      " 160000 146000 240000 131500 328900 239000 166000 191000  80000 118000\n",
      "  81000 325000 117500 222000 136905 202665 220000 266000 109500 244600\n",
      " 181000 159500 140000  98000 195400 184900 378500 110000 200000 278000\n",
      " 161500 135000 180500 144152 190000 114500 181134 297000 147000 143750\n",
      " 155900 142000 107500  99500 117500 116050 115000 181000 215000 203000\n",
      " 122000 138800 104900 315000 136905 169000 250000 149000 305900 149000\n",
      " 164900 229000 181000 158000 144000 125500 145000 243000 130500 250000\n",
      " 179900 158000 145000 117500 187500 145000 117000 130000 135000  99500\n",
      " 215000  89000 143000 189950 154000 145000 163000 200000 181000 264132\n",
      " 150000 289000 167000 137900  67000 145000 127500 141500 214000 151000\n",
      " 209500 118000 161500 127500 143250 230000 290000 485000 191000  85000\n",
      " 110000 173000]\n"
     ]
    }
   ],
   "source": [
    "from sklearn.linear_model import LogisticRegression\n",
    "logreg = LogisticRegression()\n",
    "logreg.fit(X_train, y_train)\n",
    "y_pred = logreg.predict(X_test)\n",
    "print(y_pred)"
   ]
  },
  {
   "cell_type": "markdown",
   "metadata": {},
   "source": [
    "### Classification accuracy:\n",
    "### Proportion of correct predictions\n",
    "### Common evaluation metric for classification problems\n"
   ]
  },
  {
   "cell_type": "code",
   "execution_count": 10,
   "metadata": {
    "scrolled": true
   },
   "outputs": [
    {
     "name": "stdout",
     "output_type": "stream",
     "text": [
      "0.0\n"
     ]
    }
   ],
   "source": [
    "from sklearn import metrics\n",
    "import numpy as np\n",
    "print(metrics.accuracy_score(y_test, y_pred))"
   ]
  }
 ],
 "metadata": {
  "kernelspec": {
   "display_name": "Python 3",
   "language": "python",
   "name": "python3"
  },
  "language_info": {
   "codemirror_mode": {
    "name": "ipython",
    "version": 3
   },
   "file_extension": ".py",
   "mimetype": "text/x-python",
   "name": "python",
   "nbconvert_exporter": "python",
   "pygments_lexer": "ipython3",
   "version": "3.6.3"
  }
 },
 "nbformat": 4,
 "nbformat_minor": 2
}
